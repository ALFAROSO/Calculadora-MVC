{
  "nbformat": 4,
  "nbformat_minor": 0,
  "metadata": {
    "colab": {
      "name": "Ejercicios_Ciclo_1_Alberth.ipynb",
      "provenance": [],
      "collapsed_sections": [
        "VHxwEYAmgMZR",
        "ZKVezwFxgWOO",
        "k7SmflBohePq",
        "SjUvAlIUiktw",
        "sBP-Taz-jYbB",
        "dS7nTOYttsd_",
        "Yl24_UcEu5bQ",
        "WvHL79GCvc6J",
        "tnbRK2QMqkRZ"
      ],
      "toc_visible": true,
      "authorship_tag": "ABX9TyO6vr42olgbkltzPTE1NQjW",
      "include_colab_link": true
    },
    "kernelspec": {
      "name": "python3",
      "display_name": "Python 3"
    },
    "language_info": {
      "name": "python"
    }
  },
  "cells": [
    {
      "cell_type": "markdown",
      "metadata": {
        "id": "view-in-github",
        "colab_type": "text"
      },
      "source": [
        "<a href=\"https://colab.research.google.com/github/ALFAROSO/Calculadora-MVC/blob/main/Ejercicios_Ciclo_1_Alberth.ipynb\" target=\"_parent\"><img src=\"https://colab.research.google.com/assets/colab-badge.svg\" alt=\"Open In Colab\"/></a>"
      ]
    },
    {
      "cell_type": "markdown",
      "metadata": {
        "id": "VHxwEYAmgMZR"
      },
      "source": [
        "# Condicionales"
      ]
    },
    {
      "cell_type": "markdown",
      "metadata": {
        "id": "B5QTRBkxflLU"
      },
      "source": [
        "4. Dado un número real x, construya una función que permita determinar si el número es positivo, negativo o cero.\n",
        "Para cada caso de debe imprimir el texto que se especifica a continuación:\n",
        "Positivo: “El número x es positivo”\n",
        "Negativo: “El número x es negativo”\n",
        "Cero (0): “El número x es el neutro para la suma”"
      ]
    },
    {
      "cell_type": "code",
      "metadata": {
        "colab": {
          "base_uri": "https://localhost:8080/"
        },
        "id": "Fv2Bt9RYfLHh",
        "outputId": "80249eb6-a3a1-45b6-d0d0-fbd8ac82845d"
      },
      "source": [
        "def posit_negat (n):\n",
        "    if n > 0:\n",
        "        print(\"El número \", n ,\"es positivo\")\n",
        "    elif n < 0:\n",
        "        print(\"El número \", n ,\"es negativo\")\n",
        "    else:\n",
        "        print(\"El número\", n ,\"es el neutro para la suma\")\n",
        "\n",
        "posit_negat(4)"
      ],
      "execution_count": null,
      "outputs": [
        {
          "output_type": "stream",
          "text": [
            "El número  4 es positivo\n"
          ],
          "name": "stdout"
        }
      ]
    },
    {
      "cell_type": "markdown",
      "metadata": {
        "id": "jW5PMAlgf1Lp"
      },
      "source": [
        "6. Dadas tres longitudes positivas, determinar si con esas longitudes se puede construir un triángulo."
      ]
    },
    {
      "cell_type": "code",
      "metadata": {
        "colab": {
          "base_uri": "https://localhost:8080/"
        },
        "id": "sl_cqXcyf44Y",
        "outputId": "3d98a385-7709-4f77-8aa5-cabe34e3b83d"
      },
      "source": [
        "def triangulo (a,b,c):\n",
        "    f = (max(a,b,c)-((min(a,b,c)+((a+b+c)-max(a,b,c,)-min(a,b,c)))))\n",
        "\n",
        "    if f < 0:\n",
        "        return \"Hay triangulo\"\n",
        "    else:\n",
        "        return \"No hay triangulo\"\n",
        "\n",
        "a = int (input(\"Digite lado 1:\"))\n",
        "b = int (input(\"Digite lado 2:\"))\n",
        "c = int (input(\"Digite lado 3:\"))\n",
        "rta = triangulo(a,b,c)\n",
        "print(rta)"
      ],
      "execution_count": null,
      "outputs": [
        {
          "output_type": "stream",
          "text": [
            "Digite lado 1:4\n",
            "Digite lado 2:4\n",
            "Digite lado 3:4\n",
            "Hay triangulo\n"
          ],
          "name": "stdout"
        }
      ]
    },
    {
      "cell_type": "markdown",
      "metadata": {
        "id": "ZKVezwFxgWOO"
      },
      "source": [
        "# Ciclo_Minentras"
      ]
    },
    {
      "cell_type": "markdown",
      "metadata": {
        "id": "_KVK7H0TglwK"
      },
      "source": [
        "1.  Desarrollar un programa que imprima el cuadrado del número que el usuario ingresa mientras que el número ingresado no sea negativo."
      ]
    },
    {
      "cell_type": "code",
      "metadata": {
        "colab": {
          "base_uri": "https://localhost:8080/"
        },
        "id": "oQwJCK87ghqs",
        "outputId": "8d9dc211-37ad-442c-ff38-fa9e8e6aa742"
      },
      "source": [
        "y = 0\n",
        "while y >= 0:\n",
        "    y = int(input(\"Digite el numero? \"))\n",
        "    if y < 0:\n",
        "        break\n",
        "    print(y*y)\n",
        "print(\"FIN\")"
      ],
      "execution_count": null,
      "outputs": [
        {
          "output_type": "stream",
          "text": [
            "Digite el numero? 4\n",
            "16\n",
            "Digite el numero? 3\n",
            "9\n",
            "Digite el numero? 0\n",
            "0\n",
            "Digite el numero? -9\n",
            "FIN\n"
          ],
          "name": "stdout"
        }
      ]
    },
    {
      "cell_type": "markdown",
      "metadata": {
        "id": "AY-f9eflgxyS"
      },
      "source": [
        "2. Desarrollar un programa que dado un numero entero positivo n calcule e imprima (separados por espacios) n/2 si es par o 3n + 1 si es impar. El programa debe repetir el proceso con el numero resultado de dicha operacion mientras este sea diferente de 1. Por ejemplo para el numero 3 debe imprimir 10 5 16 8 4 2 1."
      ]
    },
    {
      "cell_type": "code",
      "metadata": {
        "colab": {
          "base_uri": "https://localhost:8080/"
        },
        "id": "zKlG6t0pg6Jw",
        "outputId": "535b5b02-bc28-41e9-8e7f-846008d5d762"
      },
      "source": [
        "n = int(input(\"n?\"))\n",
        "\n",
        "while n != 1:\n",
        "    if n % 2 == 0:\n",
        "        n = n // 2\n",
        "    else:\n",
        "        n = (3*n) + 1\n",
        "    print(n,end = \" \")"
      ],
      "execution_count": null,
      "outputs": [
        {
          "output_type": "stream",
          "text": [
            "n?3\n",
            "10 5 16 8 4 2 1 "
          ],
          "name": "stdout"
        }
      ]
    },
    {
      "cell_type": "markdown",
      "metadata": {
        "id": "s_Ig3Ru3hQf8"
      },
      "source": [
        "3. En 2022 el pais A tendra una poblacion de 25 millones de habitantes y el pais B de 18.9 millones. Las tasas de crecimiento anual de la población seran de 2% y 3% respectivamente. Desarrollar un programa que imprima el año en que la población del paıs B superara a la de A."
      ]
    },
    {
      "cell_type": "code",
      "metadata": {
        "colab": {
          "base_uri": "https://localhost:8080/"
        },
        "id": "zptf1cMbhWhe",
        "outputId": "ce6edad4-6ecc-420c-d84a-1febe3ad5c8b"
      },
      "source": [
        "A = 25\n",
        "B = 18.9\n",
        "año = 2022\n",
        "\n",
        "while A > B:\n",
        "    A = A + (A * 0.02)\n",
        "    B = B + (B * 0.03)\n",
        "    año += 1\n",
        "print(año)"
      ],
      "execution_count": null,
      "outputs": [
        {
          "output_type": "stream",
          "text": [
            "2051\n"
          ],
          "name": "stdout"
        }
      ]
    },
    {
      "cell_type": "markdown",
      "metadata": {
        "id": "k7SmflBohePq"
      },
      "source": [
        "# Cadenas"
      ]
    },
    {
      "cell_type": "markdown",
      "metadata": {
        "id": "QMh6KY37hilp"
      },
      "source": [
        "1. Desarrollar un algoritmo que reciba dos cadenas de caracteres y determine si la primera esta incluida en la segunda. Se dice que una cadena esta incluida en otra, si todos los caracteres (con repeticiones) de la cadena esta en la segunda cadena sin tener en cuenta el orden de los caracteres.\n",
        "\n",
        "Ejemplos\n",
        "- La cadena “prosa” esta incluida en la cadena “la profesora de idiomas”.\n",
        "- La cadena “pepito” no esta incluida en la cadena “un pedazo de tierra”, ya que le falta una “p”.\n",
        "- La cadena “pepito” si esta incluida en la cadena “tijeras o papel”."
      ]
    },
    {
      "cell_type": "code",
      "metadata": {
        "colab": {
          "base_uri": "https://localhost:8080/"
        },
        "id": "_MdZUZEphvfw",
        "outputId": "0530528c-99df-4b6b-a6db-8ba8e5a16568"
      },
      "source": [
        "cad1 = input(\"Ingrese la primera cadena: \")\n",
        "cad2 = input(\"Ingrese la segunda cadena: \")\n",
        "c = 0\n",
        "\n",
        "for letra in cad1:\n",
        "    if letra in cad2:\n",
        "        cantidad1 = cad1.count(letra)\n",
        "        cantidad2 = cad2.count(letra)\n",
        "        #print(letra + \" c1: \" + str(cantidad1) + \" c2: \" + str(cantidad2))\n",
        "        if (cantidad1 <= cantidad2):\n",
        "            c += 1\n",
        "\n",
        "if c == len(cad1):\n",
        "    print(\"Si está\")\n",
        "else:\n",
        "    print(\"No está\")"
      ],
      "execution_count": null,
      "outputs": [
        {
          "output_type": "stream",
          "text": [
            "Ingrese la primera cadena: prosa\n",
            "Ingrese la segunda cadena: la profesora de idiomas\n",
            "Si está\n"
          ],
          "name": "stdout"
        }
      ]
    },
    {
      "cell_type": "markdown",
      "metadata": {
        "id": "0HdHKs8lh8W2"
      },
      "source": [
        "2. Desarrollar un algoritmo que determine si una cadena de caracteres es palındrome. Una cadena se dice palındrome si al invertirla es igual a ella misma."
      ]
    },
    {
      "cell_type": "code",
      "metadata": {
        "colab": {
          "base_uri": "https://localhost:8080/"
        },
        "id": "Jmvf99Emh_vw",
        "outputId": "1d8fe2d3-f733-4deb-8e2f-07dd1d6a37e4"
      },
      "source": [
        "cad1 = input(\"Ingrese la cadena: \")\n",
        "c = 0\n",
        "i = 0\n",
        "tam = len(cad1)\n",
        "bandera = True\n",
        "while (i < tam):\n",
        "        if (cad1[i] != cad1[tam - 1 - i]):\n",
        "            bandera = False\n",
        "        i += 1\n",
        "\n",
        "if bandera:\n",
        "    print(\"Si es palíndrome\")\n",
        "else:\n",
        "    print(\"No es palíndrome\")"
      ],
      "execution_count": null,
      "outputs": [
        {
          "output_type": "stream",
          "text": [
            "Ingrese la cadena: fapefaw\n",
            "No es palíndrome\n"
          ],
          "name": "stdout"
        }
      ]
    },
    {
      "cell_type": "markdown",
      "metadata": {
        "id": "SjUvAlIUiktw"
      },
      "source": [
        "# Arreglos"
      ]
    },
    {
      "cell_type": "markdown",
      "metadata": {
        "id": "liZDDstsioo9"
      },
      "source": [
        "1. Desarrollar un algoritmo que calcule el promedio de un arreglo de reales."
      ]
    },
    {
      "cell_type": "code",
      "metadata": {
        "id": "r2578X79ir_0"
      },
      "source": [
        "def promedio_arreglo(A):\n",
        "    s = 0\n",
        "    for x in A:\n",
        "        s += x\n",
        "    return s/len(A)\n",
        "print(promedio_arreglo([1,3,4,11,6]))"
      ],
      "execution_count": null,
      "outputs": []
    },
    {
      "cell_type": "markdown",
      "metadata": {
        "id": "gpWejmzciuSL"
      },
      "source": [
        "2. Desarrollar un algoritmo que calcule el producto punto de dos arreglos de números enteros (reales) de igual tamaño. \n",
        "\n",
        "Sean v = [v0,v1,...,vn−1] y w = [w0,w1,...,wn−1] dos arreglos, el producto de v y w (notado v · w) es el número:\n",
        "\n",
        "v0 ∗w0 +v1 ∗w1 +···+vn−1 ∗wn−1."
      ]
    },
    {
      "cell_type": "code",
      "metadata": {
        "id": "BEfT4kcdi34p"
      },
      "source": [
        "def producto_punto(X,Y):\n",
        "    A = 0\n",
        "    for i in range(len(X)):\n",
        "        A+=X[i]*Y[i]\n",
        "    return A\n",
        "\n",
        "print(producto_punto([-3, 5],[2,-4]))"
      ],
      "execution_count": null,
      "outputs": []
    },
    {
      "cell_type": "markdown",
      "metadata": {
        "id": "CMj88r3OjCBt"
      },
      "source": [
        "3. Desarrollar un algoritmo que calcule el producto directo de dos arreglos de números reales de igual tamaño. Sean v = [v0,v1,...,vn−1] y w = [w0,w1,...,wn−1] dos arreglos, el producto directo de v y w (notado v ∗ w ) es el vector: [v0 ∗w0,v1 ∗w1,...,vn−1 ∗wn−1]."
      ]
    },
    {
      "cell_type": "code",
      "metadata": {
        "id": "BSVKe6g2jIgg"
      },
      "source": [
        "def producto_directo(X,Y):\n",
        "    A = []\n",
        "    for i in range(len(X)):\n",
        "        B = 0\n",
        "        B+=X[i]*Y[i]\n",
        "        A.append(B)\n",
        "    return A\n",
        "\n",
        "print(producto_directo([-3, 5], [2, -4]))"
      ],
      "execution_count": null,
      "outputs": []
    },
    {
      "cell_type": "markdown",
      "metadata": {
        "id": "u2j7pRe2jNYF"
      },
      "source": [
        "4. Desarrollar un algoritmo que determine la mediana de un arreglo de enteros. La mediana es el número que queda en la mitad del arreglo despúes de ser ordenado."
      ]
    },
    {
      "cell_type": "code",
      "metadata": {
        "colab": {
          "base_uri": "https://localhost:8080/"
        },
        "id": "4JMRJMGZjSnl",
        "outputId": "2f532954-e996-4552-edfb-d15fc6090448"
      },
      "source": [
        "def mediana_arreglo(A):\n",
        "    B = sorted(A)\n",
        "    if len(B)%2 == 0:\n",
        "        return (B[(len(B)//2)]+B[(len(B)//2)-1])/2\n",
        "    else:\n",
        "        return B[(len(B)//2)]\n",
        "print(mediana_arreglo([1,6,11,4,3]))"
      ],
      "execution_count": null,
      "outputs": [
        {
          "output_type": "stream",
          "text": [
            "4\n"
          ],
          "name": "stdout"
        }
      ]
    },
    {
      "cell_type": "markdown",
      "metadata": {
        "id": "sBP-Taz-jYbB"
      },
      "source": [
        "# Listas"
      ]
    },
    {
      "cell_type": "markdown",
      "metadata": {
        "id": "UI8PAdhTjbyg"
      },
      "source": [
        "5. Desarrollar un programa que dadas dos listas determine que elementos tiene la primer lista que no tenga la segunda lista.\n",
        "\n",
        "lista1: [1,′ Hola′,−12.3,True]\n",
        "\n",
        "lista2: [11,−12.3,′Hola′,False]\n",
        "\n",
        "salida: [1,True]"
      ]
    },
    {
      "cell_type": "code",
      "metadata": {
        "colab": {
          "base_uri": "https://localhost:8080/"
        },
        "id": "sWu9pJPyjbZ_",
        "outputId": "1a44e65f-447a-4585-cb00-490c2d55e3cf"
      },
      "source": [
        "lista1 = [0,'Hola',-12.3,True]\n",
        "lista2 = [11,-12.3,'Hola',False]\n",
        "lista3 = []\n",
        "\n",
        "def convertir_lista(lista):\n",
        "    list=[]\n",
        "    for i in lista:\n",
        "        list.append(str(i))\n",
        "    return list\n",
        "\n",
        "x = 0\n",
        "for i in convertir_lista(lista1):\n",
        "    for j in convertir_lista(lista2):\n",
        "        if i != j:\n",
        "            x += 1\n",
        "            if x == len(lista1):\n",
        "                lista3.append(str(i))\n",
        "    x = 0\n",
        "print(lista3)\n"
      ],
      "execution_count": null,
      "outputs": [
        {
          "output_type": "stream",
          "text": [
            "['0', 'True']\n"
          ],
          "name": "stdout"
        }
      ]
    },
    {
      "cell_type": "code",
      "metadata": {
        "colab": {
          "base_uri": "https://localhost:8080/"
        },
        "id": "8RARd6Hqtj07",
        "outputId": "170c8476-dc6d-4412-9a22-048a91a09981"
      },
      "source": [
        "lista = [22,0,\"Hola\",20,-12.3,True]\n",
        "lista2 = [11,-12.3,\"Hola\",False,22,1]\n",
        "\n",
        "lista3 = []\n",
        "for palabra in lista2:\n",
        "\tif type(palabra) == bool:\n",
        "\t    palabra = str(palabra)\n",
        "\n",
        "\tif palabra not in lista:\n",
        "            lista3.append(palabra)\n",
        "print(lista3)\n"
      ],
      "execution_count": null,
      "outputs": [
        {
          "output_type": "stream",
          "text": [
            "[11, 'False']\n"
          ],
          "name": "stdout"
        }
      ]
    },
    {
      "cell_type": "markdown",
      "metadata": {
        "id": "dS7nTOYttsd_"
      },
      "source": [
        "# Matrices"
      ]
    },
    {
      "cell_type": "markdown",
      "metadata": {
        "id": "4SiyPtTkt2s0"
      },
      "source": [
        "1. Desarrollar un algoritmo que permita sumar dos matrices de números reales (enteros)."
      ]
    },
    {
      "cell_type": "code",
      "metadata": {
        "id": "aAEq_FFKtyep"
      },
      "source": [
        "def suma_matrices(X,Z):\n",
        "    Y = []\n",
        "    for i in range(len(X)):\n",
        "        fila = []\n",
        "        for j in range(len(X[i])):\n",
        "            fila.append(X[i][j]+Z[i][j])\n",
        "        Y.append(fila)\n",
        "    return Y\n",
        "print(suma_matrices([[3,5,7],[2,4,6]],[[1,-3,2],[4,11,-1]]))"
      ],
      "execution_count": null,
      "outputs": []
    },
    {
      "cell_type": "markdown",
      "metadata": {
        "id": "-BiCDDCbt9xe"
      },
      "source": [
        "2. Desarrollar un algoritmo que permita multiplicar dos matrices de números reales (enteros)."
      ]
    },
    {
      "cell_type": "code",
      "metadata": {
        "id": "5hvMWkuFt_e4"
      },
      "source": [
        "A=[[3,2,1],[1,1,3],[0,2,1]]\n",
        "B=[[2,1],[1,0],[3,2]]\n",
        "\n",
        "def multi_matrices(A,B):\n",
        "    Y=[]\n",
        "    for i in range(len(A)):\n",
        "        Y.append([])\n",
        "        for j in range(len(B[0])):\n",
        "            Y[i].append(0)\n",
        "    for i in range(len(A)):\n",
        "        for j in range (len(B[0])):\n",
        "            for k in range(len(A[0])):\n",
        "                Y[i][j] += A[i][k] * B[k][j]\n",
        "    return Y\n",
        "\n",
        "print(multi_matrices(A,B))"
      ],
      "execution_count": null,
      "outputs": []
    },
    {
      "cell_type": "markdown",
      "metadata": {
        "id": "sUr_KWmVuDlt"
      },
      "source": [
        "3. Desarrollar un programa que sume los elementos de una columna dada de una matriz."
      ]
    },
    {
      "cell_type": "code",
      "metadata": {
        "id": "-aiUKo5nuFEx"
      },
      "source": [
        "A=[[3,2,1],[1,1,3],[0,2,1]]\n",
        "\n",
        "def suma_columnas(A):\n",
        "    B = []\n",
        "    C = 0\n",
        "    for i in range (len(A)):\n",
        "        for j in range (len(A)):\n",
        "            C = C + (A[j][i])\n",
        "        B.append(C)\n",
        "        C = 0\n",
        "    return B\n",
        "\n",
        "print(suma_columnas(A))"
      ],
      "execution_count": null,
      "outputs": []
    },
    {
      "cell_type": "markdown",
      "metadata": {
        "id": "gwyxVd_5uHFG"
      },
      "source": [
        "4. Desarrollar un programa que sume los elementos de una fila dada de una matriz."
      ]
    },
    {
      "cell_type": "code",
      "metadata": {
        "id": "q2JDW3rUuJO0"
      },
      "source": [
        "A=[[3,2,1],[1,1,3],[0,2,1]]\n",
        "\n",
        "def suma_filas(A):\n",
        "    B = []\n",
        "    C = 0\n",
        "    for i in range (len(A)):\n",
        "        for j in range (len(A)):\n",
        "            C = C + (A[i][j])\n",
        "        B.append(C)\n",
        "        C = 0\n",
        "    return B\n",
        "\n",
        "print(suma_filas(A))"
      ],
      "execution_count": null,
      "outputs": []
    },
    {
      "cell_type": "markdown",
      "metadata": {
        "id": "ke3wiZrUuLdW"
      },
      "source": [
        "5. Desarrollar un algoritmo que determine si una matriz es mágica. Se dice que una matriz cuadrada es mágica si la suma de cada una de sus filas, de cada una de sus columnas y de cada diagonal es igual."
      ]
    },
    {
      "cell_type": "code",
      "metadata": {
        "colab": {
          "base_uri": "https://localhost:8080/"
        },
        "id": "gSG6tQazuQED",
        "outputId": "9c4097f0-41b9-4a23-f100-f1918d31b3f9"
      },
      "source": [
        "A=[[8,1,6],[3,5,7],[4,9,3]]\n",
        "analizador = [0,0,0,0,0,0,0,0]\n",
        "k = -1\n",
        "for i in range(0,3):\n",
        "    k = k + 1\n",
        "    for j in range(0,3):\n",
        "        analizador[k] = analizador[k] + A[i][j]\n",
        "        analizador[k+3] = analizador[k+3] + A[j][i]\n",
        "        print(analizador)\n",
        "for i in range(0,3):\n",
        "    analizador[6] = analizador[6] + A[i][i]\n",
        "    analizador[7] = analizador[7] + A[i][2-i]\n",
        "    print(analizador)\n",
        "\n",
        "a = 0\n",
        "for i in analizador:\n",
        "    for j in analizador:\n",
        "        if i != j:\n",
        "            a += 1\n",
        "        #print(a)\n",
        "\n",
        "if a > 0:\n",
        "    print(\"No es matriz mágica \")\n",
        "else:\n",
        "    print(\"Si es matriz mágica \")"
      ],
      "execution_count": null,
      "outputs": [
        {
          "output_type": "stream",
          "text": [
            "[8, 0, 0, 8, 0, 0, 0, 0]\n",
            "[9, 0, 0, 11, 0, 0, 0, 0]\n",
            "[15, 0, 0, 15, 0, 0, 0, 0]\n",
            "[15, 3, 0, 15, 1, 0, 0, 0]\n",
            "[15, 8, 0, 15, 6, 0, 0, 0]\n",
            "[15, 15, 0, 15, 15, 0, 0, 0]\n",
            "[15, 15, 4, 15, 15, 6, 0, 0]\n",
            "[15, 15, 13, 15, 15, 13, 0, 0]\n",
            "[15, 15, 16, 15, 15, 16, 0, 0]\n",
            "[15, 15, 16, 15, 15, 16, 8, 6]\n",
            "[15, 15, 16, 15, 15, 16, 13, 11]\n",
            "[15, 15, 16, 15, 15, 16, 16, 15]\n",
            "No es matriz mágica \n"
          ],
          "name": "stdout"
        }
      ]
    },
    {
      "cell_type": "markdown",
      "metadata": {
        "id": "Yl24_UcEu5bQ"
      },
      "source": [
        "# Ciclo_Para"
      ]
    },
    {
      "cell_type": "markdown",
      "metadata": {
        "id": "ohQUxQgtu9U2"
      },
      "source": [
        "4. Imprimir los números de 1 hasta un número natural n dado, cada uno con su respectivo factorial."
      ]
    },
    {
      "cell_type": "code",
      "metadata": {
        "id": "9dm4r8y_vBJA"
      },
      "source": [
        "n = int(input(\"n?: \"))\n",
        "fact = 1\n",
        "for num in range(1,n+1):\n",
        "    fact = fact * num\n",
        "    print(str(num)+ \"\\t -> \\t\" + str(fact))"
      ],
      "execution_count": null,
      "outputs": []
    },
    {
      "cell_type": "markdown",
      "metadata": {
        "id": "f-vdO38TvDQv"
      },
      "source": [
        "6. Leer un número natural n, leer otro dato de tipo real x y calcular x^n."
      ]
    },
    {
      "cell_type": "code",
      "metadata": {
        "id": "hTOV_YZLvGJ9"
      },
      "source": [
        "x = float(input(\"x?: \"))\n",
        "n = int(input(\"n?: \"))\n",
        "rta = 1\n",
        "c = 0\n",
        "while c < n:\n",
        "    rta = rta * x\n",
        "    c += 1\n",
        "print(str(x) + \" ^ \" + str(n) + \" = \" + str(rta))\n",
        "print(x**n)"
      ],
      "execution_count": null,
      "outputs": []
    },
    {
      "cell_type": "markdown",
      "metadata": {
        "id": "c3AbuHtfvJuz"
      },
      "source": [
        "7. Diseñe un programa que muestre las tablas de multiplicar del 1 al 9."
      ]
    },
    {
      "cell_type": "code",
      "metadata": {
        "id": "E1RZYKzwvMJ3"
      },
      "source": [
        "n = int()\n",
        "\n",
        "for n in range(1,10):\n",
        "    for num in range(0,11):\n",
        "        print(str(n) + \" * \" + str(num) + \" = \" + str(n*num))\n",
        "    print()"
      ],
      "execution_count": null,
      "outputs": []
    },
    {
      "cell_type": "markdown",
      "metadata": {
        "id": "WvHL79GCvc6J"
      },
      "source": [
        "# Diccionarios"
      ]
    },
    {
      "cell_type": "markdown",
      "metadata": {
        "id": "6TTNOmW4vgU8"
      },
      "source": [
        "1. Desarrollar un algoritmo que imprima de manera ascendente los valores (todos del mismo tipo) de un diccionario."
      ]
    },
    {
      "cell_type": "code",
      "metadata": {
        "id": "iEP7A8bhvjp4"
      },
      "source": [
        "port = {80:\"HTTP\",23:\"SMTP\",443:\"HTTPS\"}\n",
        "print(port)\n",
        "valores = list(port.values())\n",
        "valores.sort()\n",
        "print(valores)"
      ],
      "execution_count": null,
      "outputs": []
    },
    {
      "cell_type": "markdown",
      "metadata": {
        "id": "IjAOt9K0vxK8"
      },
      "source": [
        "2. Desarrollar un algoritmo que verifique si todas las clave:valor de un diccionario se encuentran en otro diccionario."
      ]
    },
    {
      "cell_type": "code",
      "metadata": {
        "id": "UlRQV5DWvyxk"
      },
      "source": [
        ""
      ],
      "execution_count": null,
      "outputs": []
    },
    {
      "cell_type": "markdown",
      "metadata": {
        "id": "tnbRK2QMqkRZ"
      },
      "source": [
        "# Recursión"
      ]
    },
    {
      "cell_type": "markdown",
      "metadata": {
        "id": "PheP3jbYqqbd"
      },
      "source": [
        "1. Modele mediante una función matemática y diseñe un programa recursivo que calcule la suma de los primeros n cuadrados de los números naturales.\n",
        "\n",
        "![Screen Shot 2021-07-10 at 6.08.08 PM.png](data:image/png;base64,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)"
      ]
    },
    {
      "cell_type": "code",
      "metadata": {
        "id": "v7KzC_odrQLg"
      },
      "source": [
        ""
      ],
      "execution_count": null,
      "outputs": []
    },
    {
      "cell_type": "markdown",
      "metadata": {
        "id": "sgwFF_rRr8RE"
      },
      "source": [
        "2. Modele mediante una función matemática y diseñe un programa sin cadenas, tuplas o listas que retorne el último dígito de un número natural n (leído de izquierda a derecha). Por ejemplo, \n",
        "\n",
        "ultimo(13579) = 9."
      ]
    },
    {
      "cell_type": "code",
      "metadata": {
        "id": "VRS0-4hMscPG"
      },
      "source": [
        "def ultimo(n, m = 1000000000):\n",
        "  if n < 10 :\n",
        "    return n\n",
        "  else:\n",
        "    return ultimo(n % m , m // 10)\n",
        "\n",
        "print(ultimo(13579))"
      ],
      "execution_count": null,
      "outputs": []
    },
    {
      "cell_type": "markdown",
      "metadata": {
        "id": "z-ZoSAthtqGM"
      },
      "source": [
        "3. Modele mediante una función matemática y diseñe un programa recursivo sin cadenas, tuplas o listas que dado un número natural n elimine el último dígito del número. Por ejemplo, \n",
        "\n",
        "elimina_ul(654321) = 65432."
      ]
    },
    {
      "cell_type": "code",
      "metadata": {
        "id": "9ieS2WSvuHIN"
      },
      "source": [
        "def elimina_ult(n, m = 1000000000, c = 8):\n",
        "  if n < 10 :\n",
        "    return 0\n",
        "  else:\n",
        "    return ((n//m)*10**c) + elimina_ult(n % m , m // 10, c-1)\n",
        "\n",
        "print(elimina_ult(654321))\n",
        "print(elimina_ult(12))\n",
        "print(elimina_ult(456812))"
      ],
      "execution_count": null,
      "outputs": []
    },
    {
      "cell_type": "markdown",
      "metadata": {
        "id": "RF9P8k2UuMHO"
      },
      "source": [
        "4. Modele mediante una función matemática y diseñe un programa recursivo sin cadenas, tuplas o listas que determine la cantidad de dígitos que componen un número natural n. Por ejemplo, \n",
        "\n",
        "longitud(1230321) = 7."
      ]
    },
    {
      "cell_type": "code",
      "metadata": {
        "id": "We8cqeieufv4"
      },
      "source": [
        "def longitud (n):\n",
        "  if n == 0:\n",
        "    return 0;\n",
        "  else:\n",
        "    return 1 + longitud(n//10)\n",
        "\n",
        "print(longitud(1230321))"
      ],
      "execution_count": null,
      "outputs": []
    },
    {
      "cell_type": "markdown",
      "metadata": {
        "id": "HFW-kIxjuixD"
      },
      "source": [
        "5. Modele mediante una función matemática y diseñe un programa recursivo sin cadenas, tuplas o listas que calcule la suma de los dígitos que componen un número natural n. Por ejemplo,\n",
        "\n",
        "suma digitos(123456) = 21."
      ]
    },
    {
      "cell_type": "code",
      "metadata": {
        "id": "Mrh8AbuSuu34"
      },
      "source": [
        "def suma_digitos (n):\n",
        "  if n == 0:\n",
        "    return 0;\n",
        "  else:\n",
        "    return (n%10) + suma_digitos(n//10)\n",
        "\n",
        "print(suma_digitos(123456))"
      ],
      "execution_count": null,
      "outputs": []
    },
    {
      "cell_type": "markdown",
      "metadata": {
        "id": "cmmqC4f_u2LA"
      },
      "source": [
        "6. Modele mediante una función matemática y diseñe un programa recursivo sin cadenas, tuplas o listas que retorne el primer dígito de un número natural n (leído de izquierda a derecha). Por ejemplo, \n",
        "\n",
        "primero(86420) = 8."
      ]
    },
    {
      "cell_type": "code",
      "metadata": {
        "id": "qicYp1AwvFwZ"
      },
      "source": [
        "def primero (n):\n",
        "  if n < 10:\n",
        "    return n;\n",
        "  else:\n",
        "    return primero(n//10)\n",
        "\n",
        "print(primero(86420))"
      ],
      "execution_count": null,
      "outputs": []
    },
    {
      "cell_type": "markdown",
      "metadata": {
        "id": "OHqmu225vNtL"
      },
      "source": [
        "7. Modele mediante una función matemática y diseñe un programa recursivo sin cadenas, tuplas o listas que dado un número natural n elimine el primer dígito del número. Por ejemplo,\n",
        "\n",
        "elimina pri(654321) = 54321."
      ]
    },
    {
      "cell_type": "code",
      "metadata": {
        "id": "NC08W-7lvSAQ"
      },
      "source": [
        "def eliminar_primero (n , c = 0):\n",
        "  if n < 10:\n",
        "    return 0;\n",
        "  else:\n",
        "    return (n%10)*(10**c)+ eliminar_primero(n//10, c+1)\n",
        "\n",
        "print(eliminar_primero(654321))"
      ],
      "execution_count": null,
      "outputs": []
    },
    {
      "cell_type": "markdown",
      "metadata": {
        "id": "VVRrPnHJ9wkK"
      },
      "source": [
        "\n",
        "\n",
        "```\n",
        "# This is formatted as code\n",
        "```\n",
        "\n",
        "# New Section Massiel"
      ]
    },
    {
      "cell_type": "code",
      "metadata": {
        "colab": {
          "base_uri": "https://localhost:8080/",
          "height": 245
        },
        "id": "TwH8DL-n91ec",
        "outputId": "70874b4e-b174-4153-ad34-c5e35290191e"
      },
      "source": [
        "# -*- coding: utf-8 -*-\n",
        "\n",
        "ed= [\"Taj Mahal\", \"Machu Picchu\", \"Chichen Itzá\", \"Taj Mahal\", \"Taj Mahal\", \"Chichen Itzá\", \"Taj Mahal\", \"Machu Picchu\"]\n",
        "\n",
        "llaves=([1,3,5,6], [\"Taj Mahal\", \"Machu Picchu\", \"Chichen Itzá\", \"Taj Mahal\", \"Taj Mahal\", \"Chichen Itzá\", \"Taj Mahal\", \"Machu Picchu\"], \"Taj Mahal\")\n",
        "\n",
        "faltan=([3,5,7,10,15,16], [3,5,10,13])\n",
        "\n",
        "difer=([3,5,7,10,15,16],[3,5,10,13])\n",
        "\n",
        "def edificio(ed):\n",
        "    edr=[]\n",
        "    for i in ed:\n",
        "        if i not in edr:\n",
        "            edr.append(i)\n",
        "    return(edr)\n",
        "\n",
        "#print(edificio([\"Taj Mahal\", \"Machu Picchu\", \"Chichen Itzá\", \"Taj Mahal\", \"Taj Mahal\", \"Chichen Itzá\", \"Taj Mahal\", \"Machu Picchu\"]))\n",
        "\n",
        "def encontrada(llaves):\n",
        "    ac=0;    llave_enc=[]\n",
        "    for i in llaves[0]:\n",
        "        for j in reversed(llaves[0]):\n",
        "            if llaves[1][i] == llaves[1][j] and [i] != [j]:\n",
        "                ac +=1\n",
        "                if ac > 1:\n",
        "                    llave_enc.append(j);llave_enc.append(i)\n",
        "                    ac=0\n",
        "    return (llave_enc)\n",
        "\n",
        "#print(encontrada([1,3,5,6], [“Taj Mahal”, “Machu Picchu”, “Chichen Itzá”, “Taj Mahal”, “Taj Mahal”, “Chichen Itzá”, “Taj Mahal”, “Machu Picchu”], “Taj Mahal”))\n",
        "\n",
        "def faltantes(faltan):\n",
        "    for i in faltan[1]:\n",
        "        for j in faltan[0]:\n",
        "            if i == j:\n",
        "                faltan[0].remove(i)\n",
        "    return (faltan[0])\n",
        "\n",
        "#print(faltantes([3,5,7,10,15,16],[3,5,10,13]))\n",
        "\n",
        "def diferencia(difer):\n",
        "    eliminar=[]\n",
        "    for i in difer[0]:\n",
        "        if i in difer[1]:\n",
        "            eliminar.append(i)\n",
        "    for i in eliminar:\n",
        "        if i in difer[0]:\n",
        "            difer[0].remove(i)\n",
        "            difer[1].remove(i)\n",
        "    if len(difer[0]) > len(difer[1]):\n",
        "        r=1\n",
        "    else:\n",
        "        r=2\n",
        "    return(r)\n",
        "\n",
        "#print(diferencia([3,5,7,10,15,16],[3,5,10,13]))"
      ],
      "execution_count": null,
      "outputs": [
        {
          "output_type": "error",
          "ename": "TypeError",
          "evalue": "ignored",
          "traceback": [
            "\u001b[0;31m---------------------------------------------------------------------------\u001b[0m",
            "\u001b[0;31mTypeError\u001b[0m                                 Traceback (most recent call last)",
            "\u001b[0;32m<ipython-input-7-48caf040fa7a>\u001b[0m in \u001b[0;36m<module>\u001b[0;34m()\u001b[0m\n\u001b[1;32m     38\u001b[0m     \u001b[0;32mreturn\u001b[0m \u001b[0;34m(\u001b[0m\u001b[0mfaltan\u001b[0m\u001b[0;34m[\u001b[0m\u001b[0;36m0\u001b[0m\u001b[0;34m]\u001b[0m\u001b[0;34m)\u001b[0m\u001b[0;34m\u001b[0m\u001b[0;34m\u001b[0m\u001b[0m\n\u001b[1;32m     39\u001b[0m \u001b[0;34m\u001b[0m\u001b[0m\n\u001b[0;32m---> 40\u001b[0;31m \u001b[0mprint\u001b[0m\u001b[0;34m(\u001b[0m\u001b[0mfaltantes\u001b[0m\u001b[0;34m(\u001b[0m\u001b[0;34m[\u001b[0m\u001b[0;36m3\u001b[0m\u001b[0;34m,\u001b[0m\u001b[0;36m5\u001b[0m\u001b[0;34m,\u001b[0m\u001b[0;36m7\u001b[0m\u001b[0;34m,\u001b[0m\u001b[0;36m10\u001b[0m\u001b[0;34m,\u001b[0m\u001b[0;36m15\u001b[0m\u001b[0;34m,\u001b[0m\u001b[0;36m16\u001b[0m\u001b[0;34m]\u001b[0m\u001b[0;34m,\u001b[0m\u001b[0;34m[\u001b[0m\u001b[0;36m3\u001b[0m\u001b[0;34m,\u001b[0m\u001b[0;36m5\u001b[0m\u001b[0;34m,\u001b[0m\u001b[0;36m10\u001b[0m\u001b[0;34m,\u001b[0m\u001b[0;36m13\u001b[0m\u001b[0;34m]\u001b[0m\u001b[0;34m)\u001b[0m\u001b[0;34m)\u001b[0m\u001b[0;34m\u001b[0m\u001b[0;34m\u001b[0m\u001b[0m\n\u001b[0m\u001b[1;32m     41\u001b[0m \u001b[0;34m\u001b[0m\u001b[0m\n\u001b[1;32m     42\u001b[0m \u001b[0;32mdef\u001b[0m \u001b[0mdiferencia\u001b[0m\u001b[0;34m(\u001b[0m\u001b[0mdifer\u001b[0m\u001b[0;34m)\u001b[0m\u001b[0;34m:\u001b[0m\u001b[0;34m\u001b[0m\u001b[0;34m\u001b[0m\u001b[0m\n",
            "\u001b[0;31mTypeError\u001b[0m: faltantes() takes 1 positional argument but 2 were given"
          ]
        }
      ]
    }
  ]
}